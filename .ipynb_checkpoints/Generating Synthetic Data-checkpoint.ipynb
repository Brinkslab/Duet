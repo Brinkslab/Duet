{
 "cells": [
  {
   "cell_type": "code",
   "execution_count": 61,
   "id": "90b907dd",
   "metadata": {},
   "outputs": [
    {
     "name": "stdout",
     "output_type": "stream",
     "text": [
      "['Image10.rnp.swc', 'Image31.rnp.swc', 'Image4.rnp.swc', 'Image5.rnp.swc', 'Image7.rnp.swc', 'Series17.rnp.swc', 'Series19.rnp.swc', 'Series21.rnp.swc', 'Series9.rnp.swc']\n"
     ]
    }
   ],
   "source": [
    "%matplotlib inline\n",
    "\n",
    "import os\n",
    "import random\n",
    "\n",
    "import matplotlib.pyplot as plt\n",
    "import numpy as np\n",
    "from netpyne import specs, sim\n",
    "\n",
    "folder = 'Ground truth SWCs'\n",
    "\n",
    "cells = 10\n",
    "exitatory_frac = 0.8\n",
    "\n",
    "netParams = specs.NetParams()\n",
    "netParams.sizeX = 100             # x-dimension (horizontal length) size in um\n",
    "netParams.sizeY = 100            # y-dimension (vertical height or cortical depth) size in um\n",
    "netParams.sizeZ = 10\n",
    "netParams.propVelocity = 5.0    # propagation velocity (um/ms)\n",
    "netParams.probLengthConst = 150.0\n",
    "\n",
    "\n",
    "swc_filenames = []\n",
    "for file in os.listdir(folder):\n",
    "    if os.path.splitext(file)[-1] == '.swc':\n",
    "        swc_filenames.append(file)\n",
    "\n",
    "print(swc_filenames)\n",
    "num_pops = len(swc_filenames)\n",
    "\n",
    "cell_labels = []\n",
    "E_list = []\n",
    "I_list = []\n",
    "for ii, swc_fname in enumerate(swc_filenames):\n",
    "    label = f'swc_{ii:04d}'\n",
    "    \n",
    "    cellRule = netParams.importCellParams(\n",
    "        label=label, \n",
    "        conds={'cellType': 'PYR', 'cellModel': 'NML2Cell'},\n",
    "        fileName=os.path.join(folder, swc_fname), \n",
    "        cellName=label,\n",
    "        )\n",
    "    \n",
    "    cell_labels.append(label)\n",
    "    \n",
    "    # For convenience, we'll rename the first soma section in the morphology from `soma_0` to `soma`.\n",
    "    netParams.renameCellParamsSec(label, 'soma_0', 'soma')\n",
    "    \n",
    "\n",
    "    for secName in cellRule['secs']:\n",
    "        cellRule['secs'][secName]['geom']['cm'] = 1\n",
    "        if secName.startswith('soma'):\n",
    "            cellRule['secs'][secName]['mechs']['hh'] = {\n",
    "                'gnabar': 0.12, \n",
    "                'gkbar': 0.036, \n",
    "                'gl': 0.003, \n",
    "                'el': -70,\n",
    "                }\n",
    "        else:\n",
    "            cellRule['secs'][secName]['mechs']['hh'] = {\n",
    "                'gnabar': 0.12, \n",
    "                'gkbar': 0.036, \n",
    "                'gl': 0.003, \n",
    "                'el': -70,\n",
    "                }\n",
    "    X = random.randint(0, netParams.sizeX-1)\n",
    "    Y = random.randint(0, netParams.sizeY-1)\n",
    "    Z = random.randint(0, netParams.sizeZ-1)\n",
    "    \n",
    "    cellRule['x'] = X\n",
    "    cellRule['y'] = Y\n",
    "    cellRule['z'] = Z\n",
    "        \n",
    "    # Now we'll make a population out of our imported cell.\n",
    "    # netParams.popParams[ii] = {'cellType': 'swc_cell', 'numCells': 1}\n",
    "    \n",
    "    if random.random() < exitatory_frac:\n",
    "        pop_list = E_list\n",
    "    else:\n",
    "        pop_list = I_list\n",
    "        \n",
    "    pop_list.append(cellRule)\n",
    "\n",
    "netParams.popParams['E'] = {'cellType'  : 'PYR',\n",
    "                            'cellsList' : E_list,\n",
    "                              'numCells': int(cells/num_pops)}\n",
    "\n",
    "netParams.popParams['I'] = {'cellType'  : 'PYR',\n",
    "                            'cellsList' : I_list,\n",
    "                              'numCells': int(cells/num_pops)}\n"
   ]
  },
  {
   "cell_type": "code",
   "execution_count": 62,
   "id": "cf6c0386",
   "metadata": {},
   "outputs": [
    {
     "data": {
      "text/plain": [
       "(7, 2)"
      ]
     },
     "execution_count": 62,
     "metadata": {},
     "output_type": "execute_result"
    }
   ],
   "source": [
    "len(netParams.popParams['E']['cellsList']), len(netParams.popParams['I']['cellsList'])"
   ]
  },
  {
   "cell_type": "code",
   "execution_count": 63,
   "id": "7766d526",
   "metadata": {},
   "outputs": [
    {
     "name": "stdout",
     "output_type": "stream",
     "text": [
      "Cell # 0 is stimulated\n"
     ]
    }
   ],
   "source": [
    "## Synaptic mechanism parameters\n",
    "netParams.synMechParams['exc'] = {'mod': 'Exp2Syn', 'tau1': 0.8, 'tau2': 5.3, 'e': 0}  # NMDA synaptic mechanism\n",
    "netParams.synMechParams['inh'] = {'mod': 'Exp2Syn', 'tau1': 0.6, 'tau2': 8.5, 'e': -75}  # GABA synaptic mechanism\n",
    "\n",
    "# Stimulation parameters\n",
    "netParams.stimSourceParams['bkg'] = {'type': 'NetStim', 'rate': 20, 'noise': 0.3}\n",
    "netParams.stimTargetParams['bkg->all'] = {'source': 'bkg', 'conds': {'cellType': 'PYR'}, 'weight': 0.01, 'delay': 'max(1, normal(5,2))', 'synMech': 'exc'}\n",
    "\n",
    "stim_ii = random.randint(0, cells-1)\n",
    "print(f'Cell # {stim_ii} is stimulated')\n",
    "\n",
    "netParams.stimSourceParams['Probe'] = {'type': 'NetStim', 'rate': 10}\n",
    "netParams.stimTargetParams['Probe->Cell'] = {'source': 'Probe', 'conds': {'cellList': [stim_ii]}, 'weight': 0.5, 'delay': '30', 'synMech': 'exc'}"
   ]
  },
  {
   "cell_type": "code",
   "execution_count": 64,
   "id": "96ed7c2b",
   "metadata": {},
   "outputs": [],
   "source": [
    "# Distance-based connectivity\n",
    "netParams.connParams['E->E'] = {\n",
    "    'preConds': {'pop': 'E'}, \n",
    "    'postConds': {'pop': 'E'},\n",
    "    'probability': '1*exp(-dist_3D/probLengthConst)',                  # probability of connection\n",
    "    'weight': '0.60',         # synaptic weight\n",
    "    'delay': 'dist_3D/propVelocity',      # transmission delay (ms)\n",
    "    'synMech': 'exc'}                     # synaptic mechanism\n",
    "\n",
    "netParams.connParams['E->I'] = {\n",
    "    'preConds': {'pop': 'E'}, \n",
    "    'postConds': {'pop': 'I'},  \n",
    "    'probability': '1*exp(-dist_3D/probLengthConst)',                  # probability of connection\n",
    "    'weight': '0.60',         # synaptic weight\n",
    "    'delay': 'dist_3D/propVelocity',      # transmission delay (ms)\n",
    "    'synMech': 'exc'}                     # synaptic mechanism\n",
    "\n",
    "netParams.connParams['I->E'] = {\n",
    "    'preConds': {'pop': 'I'}, \n",
    "    'postConds': {'pop': 'E'},  #  E -> all (100-1000 um)\n",
    "    'probability': '0.6*exp(-dist_3D/probLengthConst)',                  # probability of connection\n",
    "    'weight': '0.01',         # synaptic weight\n",
    "    'delay': 'dist_3D/propVelocity',      # transmission delay (ms)\n",
    "    'synMech': 'inh'}                     # synaptic mechanism\n",
    "\n",
    "netParams.connParams['I->I'] = {\n",
    "    'preConds': {'pop': 'I'}, \n",
    "    'postConds':  {'pop': 'I'},  #  E -> all (100-1000 um)\n",
    "    'probability': '0.6*exp(-dist_3D/probLengthConst)',                  # probability of connection\n",
    "    'weight': '0.01',         # synaptic weight\n",
    "    'delay': 'dist_3D/propVelocity',      # transmission delay (ms)\n",
    "    'synMech': 'inh'}                     # synaptic mechanism"
   ]
  },
  {
   "cell_type": "code",
   "execution_count": 65,
   "id": "b3284417",
   "metadata": {
    "scrolled": false
   },
   "outputs": [
    {
     "name": "stdout",
     "output_type": "stream",
     "text": [
      "\n",
      "Start time:  2022-05-24 12:27:29.292799\n",
      "\n",
      "Creating network of 2 cell populations on 1 hosts...\n",
      "  Number of cells on node 0: 9 \n",
      "  Done; cell creation time = 0.00 s.\n",
      "Making connections...\n",
      "  Number of connections on node 0: 0 \n",
      "  Done; cell connection time = 0.00 s.\n",
      "Adding stims...\n",
      "  Number of stims on node 0: 0 \n",
      "  Done; cell stims creation time = 0.00 s.\n",
      "Recording 0 traces of 0 types on node 0\n",
      "\n",
      "Running simulation using NEURON for 400.0 ms...\n",
      "  Done; run time = 0.00 s; real-time ratio: 200.52.\n",
      "\n",
      "Gathering data...\n",
      "  Done; gather time = 0.02 s.\n",
      "\n",
      "Analyzing...\n",
      "  Cells: 9\n",
      "  Connections: 0 (0.00 per cell)\n",
      "  Spikes: 0 (0.00 Hz)\n",
      "  Simulated time: 0.4 s; 1 workers\n",
      "  Run time: 0.00 s\n",
      "Saving output as tut5_data.pkl ... \n",
      "Finished saving!\n",
      "  Done; saving time = 0.38 s.\n",
      "Preparing spike data...\n",
      "No spikes available to plot raster\n",
      "Plotting raster...\n",
      "  There was an exception in plotRaster(): \n",
      "    local variable 'spkInds' referenced before assignment \n",
      "    (<class 'UnboundLocalError'>, UnboundLocalError(\"local variable 'spkInds' referenced before assignment\"), <traceback object at 0x000002D882EA1A80>)\n",
      "Plotting recorded cell traces ... trace\n"
     ]
    },
    {
     "data": {
      "text/plain": [
       "<Figure size 720x576 with 0 Axes>"
      ]
     },
     "metadata": {},
     "output_type": "display_data"
    },
    {
     "name": "stdout",
     "output_type": "stream",
     "text": [
      "Plotting 2D representation of network cell locations and connections...\n"
     ]
    },
    {
     "data": {
      "image/png": "[encoded data removed]",
      "text/plain": [
       "<Figure size 864x864 with 1 Axes>"
      ]
     },
     "metadata": {
      "needs_background": "light"
     },
     "output_type": "display_data"
    },
    {
     "name": "stdout",
     "output_type": "stream",
     "text": [
      "Plotting connectivity matrix...\n"
     ]
    },
    {
     "data": {
      "image/png": "[encoded data removed]",
      "text/plain": [
       "<Figure size 576x576 with 2 Axes>"
      ]
     },
     "metadata": {
      "needs_background": "light"
     },
     "output_type": "display_data"
    },
    {
     "name": "stdout",
     "output_type": "stream",
     "text": [
      "  Done; plotting time = 0.42 s\n",
      "\n",
      "Total time = 0.84 s\n"
     ]
    }
   ],
   "source": [
    "# Simulation options\n",
    "simConfig = specs.SimConfig()        # object of class SimConfig to store simulation configuration\n",
    "\n",
    "simConfig.duration = 0.4*1e3           # Duration of the simulation, in ms\n",
    "simConfig.dt = 0.05                  # Internal integration timestep to use\n",
    "simConfig.verbose = False            # Show detailed messages\n",
    "simConfig.recordTraces = {'V_soma':{'sec':'soma','loc':0.5,'var':'v'}}  # Dict with traces to record\n",
    "simConfig.recordCells = range(cells)\n",
    "simConfig.recordStep = 1             # Step size in ms to save data (e.g. V traces, LFP, etc)\n",
    "simConfig.filename = 'tut5'          # Set file output name\n",
    "simConfig.savePickle = True         # Save params, network and sim output to pickle file\n",
    "\n",
    "simConfig.analysis['plotRaster'] = {'orderBy': 'y', 'orderInverse': True, 'saveFig': True}         # Plot a raster\n",
    "simConfig.analysis['plotTraces'] = {'oneFigPer' : 'trace' ,'saveFig': True}  # Plot recorded traces for this list of cells\n",
    "simConfig.analysis['plot2Dnet'] = {'saveFig': True}                                                # plot 2D cell positions and connections\n",
    "simConfig.analysis['plotConn'] = {'saveFig': True}                                                 # plot connectivity matrix\n",
    "\n",
    "# Create network and run simulation\n",
    "sim.createSimulateAnalyze(netParams = netParams, simConfig = simConfig)"
   ]
  },
  {
   "cell_type": "code",
   "execution_count": 66,
   "id": "a299d0bb",
   "metadata": {},
   "outputs": [
    {
     "data": {
      "text/plain": [
       "{E: <netpyne.network.pop.Pop object at 0x000002D8811782E0>, I: <netpyne.network.pop.Pop object at 0x000002D8839F8F70>}"
      ]
     },
     "execution_count": 66,
     "metadata": {},
     "output_type": "execute_result"
    }
   ],
   "source": [
    "sim.net.pops"
   ]
  },
  {
   "cell_type": "code",
   "execution_count": 67,
   "id": "13da2365",
   "metadata": {},
   "outputs": [
    {
     "ename": "TypeError",
     "evalue": "Invalid shape (0,) for image data",
     "output_type": "error",
     "traceback": [
      "\u001b[1;31m---------------------------------------------------------------------------\u001b[0m",
      "\u001b[1;31mTypeError\u001b[0m                                 Traceback (most recent call last)",
      "Input \u001b[1;32mIn [67]\u001b[0m, in \u001b[0;36m<cell line: 8>\u001b[1;34m()\u001b[0m\n\u001b[0;32m      4\u001b[0m         data\u001b[38;5;241m.\u001b[39mappend(\u001b[38;5;28mlist\u001b[39m(value))\n\u001b[0;32m      6\u001b[0m data \u001b[38;5;241m=\u001b[39m np\u001b[38;5;241m.\u001b[39marray(data)\n\u001b[1;32m----> 8\u001b[0m \u001b[43mplt\u001b[49m\u001b[38;5;241;43m.\u001b[39;49m\u001b[43mimshow\u001b[49m\u001b[43m(\u001b[49m\u001b[43mdata\u001b[49m\u001b[43m,\u001b[49m\u001b[43m \u001b[49m\u001b[43maspect\u001b[49m\u001b[38;5;241;43m=\u001b[39;49m\u001b[38;5;124;43m'\u001b[39;49m\u001b[38;5;124;43mauto\u001b[39;49m\u001b[38;5;124;43m'\u001b[39;49m\u001b[43m,\u001b[49m\u001b[43m \u001b[49m\u001b[43minterpolation\u001b[49m\u001b[38;5;241;43m=\u001b[39;49m\u001b[38;5;28;43;01mNone\u001b[39;49;00m\u001b[43m)\u001b[49m\n\u001b[0;32m      9\u001b[0m plt\u001b[38;5;241m.\u001b[39mxlabel(\u001b[38;5;124m'\u001b[39m\u001b[38;5;124mTime [ms]\u001b[39m\u001b[38;5;124m'\u001b[39m)\n\u001b[0;32m     10\u001b[0m plt\u001b[38;5;241m.\u001b[39mylabel(\u001b[38;5;124m'\u001b[39m\u001b[38;5;124mNeuron #\u001b[39m\u001b[38;5;124m'\u001b[39m)\n",
      "File \u001b[1;32mC:\\Programs\\Anaconda3\\envs\\Duet\\lib\\site-packages\\matplotlib\\_api\\deprecation.py:459\u001b[0m, in \u001b[0;36mmake_keyword_only.<locals>.wrapper\u001b[1;34m(*args, **kwargs)\u001b[0m\n\u001b[0;32m    453\u001b[0m \u001b[38;5;28;01mif\u001b[39;00m \u001b[38;5;28mlen\u001b[39m(args) \u001b[38;5;241m>\u001b[39m name_idx:\n\u001b[0;32m    454\u001b[0m     warn_deprecated(\n\u001b[0;32m    455\u001b[0m         since, message\u001b[38;5;241m=\u001b[39m\u001b[38;5;124m\"\u001b[39m\u001b[38;5;124mPassing the \u001b[39m\u001b[38;5;132;01m%(name)s\u001b[39;00m\u001b[38;5;124m \u001b[39m\u001b[38;5;132;01m%(obj_type)s\u001b[39;00m\u001b[38;5;124m \u001b[39m\u001b[38;5;124m\"\u001b[39m\n\u001b[0;32m    456\u001b[0m         \u001b[38;5;124m\"\u001b[39m\u001b[38;5;124mpositionally is deprecated since Matplotlib \u001b[39m\u001b[38;5;132;01m%(since)s\u001b[39;00m\u001b[38;5;124m; the \u001b[39m\u001b[38;5;124m\"\u001b[39m\n\u001b[0;32m    457\u001b[0m         \u001b[38;5;124m\"\u001b[39m\u001b[38;5;124mparameter will become keyword-only \u001b[39m\u001b[38;5;132;01m%(removal)s\u001b[39;00m\u001b[38;5;124m.\u001b[39m\u001b[38;5;124m\"\u001b[39m,\n\u001b[0;32m    458\u001b[0m         name\u001b[38;5;241m=\u001b[39mname, obj_type\u001b[38;5;241m=\u001b[39m\u001b[38;5;124mf\u001b[39m\u001b[38;5;124m\"\u001b[39m\u001b[38;5;124mparameter of \u001b[39m\u001b[38;5;132;01m{\u001b[39;00mfunc\u001b[38;5;241m.\u001b[39m\u001b[38;5;18m__name__\u001b[39m\u001b[38;5;132;01m}\u001b[39;00m\u001b[38;5;124m()\u001b[39m\u001b[38;5;124m\"\u001b[39m)\n\u001b[1;32m--> 459\u001b[0m \u001b[38;5;28;01mreturn\u001b[39;00m \u001b[43mfunc\u001b[49m\u001b[43m(\u001b[49m\u001b[38;5;241;43m*\u001b[39;49m\u001b[43margs\u001b[49m\u001b[43m,\u001b[49m\u001b[43m \u001b[49m\u001b[38;5;241;43m*\u001b[39;49m\u001b[38;5;241;43m*\u001b[39;49m\u001b[43mkwargs\u001b[49m\u001b[43m)\u001b[49m\n",
      "File \u001b[1;32mC:\\Programs\\Anaconda3\\envs\\Duet\\lib\\site-packages\\matplotlib\\pyplot.py:2652\u001b[0m, in \u001b[0;36mimshow\u001b[1;34m(X, cmap, norm, aspect, interpolation, alpha, vmin, vmax, origin, extent, interpolation_stage, filternorm, filterrad, resample, url, data, **kwargs)\u001b[0m\n\u001b[0;32m   2646\u001b[0m \u001b[38;5;129m@_copy_docstring_and_deprecators\u001b[39m(Axes\u001b[38;5;241m.\u001b[39mimshow)\n\u001b[0;32m   2647\u001b[0m \u001b[38;5;28;01mdef\u001b[39;00m \u001b[38;5;21mimshow\u001b[39m(\n\u001b[0;32m   2648\u001b[0m         X, cmap\u001b[38;5;241m=\u001b[39m\u001b[38;5;28;01mNone\u001b[39;00m, norm\u001b[38;5;241m=\u001b[39m\u001b[38;5;28;01mNone\u001b[39;00m, aspect\u001b[38;5;241m=\u001b[39m\u001b[38;5;28;01mNone\u001b[39;00m, interpolation\u001b[38;5;241m=\u001b[39m\u001b[38;5;28;01mNone\u001b[39;00m,\n\u001b[0;32m   2649\u001b[0m         alpha\u001b[38;5;241m=\u001b[39m\u001b[38;5;28;01mNone\u001b[39;00m, vmin\u001b[38;5;241m=\u001b[39m\u001b[38;5;28;01mNone\u001b[39;00m, vmax\u001b[38;5;241m=\u001b[39m\u001b[38;5;28;01mNone\u001b[39;00m, origin\u001b[38;5;241m=\u001b[39m\u001b[38;5;28;01mNone\u001b[39;00m, extent\u001b[38;5;241m=\u001b[39m\u001b[38;5;28;01mNone\u001b[39;00m, \u001b[38;5;241m*\u001b[39m,\n\u001b[0;32m   2650\u001b[0m         interpolation_stage\u001b[38;5;241m=\u001b[39m\u001b[38;5;28;01mNone\u001b[39;00m, filternorm\u001b[38;5;241m=\u001b[39m\u001b[38;5;28;01mTrue\u001b[39;00m, filterrad\u001b[38;5;241m=\u001b[39m\u001b[38;5;241m4.0\u001b[39m,\n\u001b[0;32m   2651\u001b[0m         resample\u001b[38;5;241m=\u001b[39m\u001b[38;5;28;01mNone\u001b[39;00m, url\u001b[38;5;241m=\u001b[39m\u001b[38;5;28;01mNone\u001b[39;00m, data\u001b[38;5;241m=\u001b[39m\u001b[38;5;28;01mNone\u001b[39;00m, \u001b[38;5;241m*\u001b[39m\u001b[38;5;241m*\u001b[39mkwargs):\n\u001b[1;32m-> 2652\u001b[0m     __ret \u001b[38;5;241m=\u001b[39m \u001b[43mgca\u001b[49m\u001b[43m(\u001b[49m\u001b[43m)\u001b[49m\u001b[38;5;241;43m.\u001b[39;49m\u001b[43mimshow\u001b[49m\u001b[43m(\u001b[49m\n\u001b[0;32m   2653\u001b[0m \u001b[43m        \u001b[49m\u001b[43mX\u001b[49m\u001b[43m,\u001b[49m\u001b[43m \u001b[49m\u001b[43mcmap\u001b[49m\u001b[38;5;241;43m=\u001b[39;49m\u001b[43mcmap\u001b[49m\u001b[43m,\u001b[49m\u001b[43m \u001b[49m\u001b[43mnorm\u001b[49m\u001b[38;5;241;43m=\u001b[39;49m\u001b[43mnorm\u001b[49m\u001b[43m,\u001b[49m\u001b[43m \u001b[49m\u001b[43maspect\u001b[49m\u001b[38;5;241;43m=\u001b[39;49m\u001b[43maspect\u001b[49m\u001b[43m,\u001b[49m\n\u001b[0;32m   2654\u001b[0m \u001b[43m        \u001b[49m\u001b[43minterpolation\u001b[49m\u001b[38;5;241;43m=\u001b[39;49m\u001b[43minterpolation\u001b[49m\u001b[43m,\u001b[49m\u001b[43m \u001b[49m\u001b[43malpha\u001b[49m\u001b[38;5;241;43m=\u001b[39;49m\u001b[43malpha\u001b[49m\u001b[43m,\u001b[49m\u001b[43m \u001b[49m\u001b[43mvmin\u001b[49m\u001b[38;5;241;43m=\u001b[39;49m\u001b[43mvmin\u001b[49m\u001b[43m,\u001b[49m\n\u001b[0;32m   2655\u001b[0m \u001b[43m        \u001b[49m\u001b[43mvmax\u001b[49m\u001b[38;5;241;43m=\u001b[39;49m\u001b[43mvmax\u001b[49m\u001b[43m,\u001b[49m\u001b[43m \u001b[49m\u001b[43morigin\u001b[49m\u001b[38;5;241;43m=\u001b[39;49m\u001b[43morigin\u001b[49m\u001b[43m,\u001b[49m\u001b[43m \u001b[49m\u001b[43mextent\u001b[49m\u001b[38;5;241;43m=\u001b[39;49m\u001b[43mextent\u001b[49m\u001b[43m,\u001b[49m\n\u001b[0;32m   2656\u001b[0m \u001b[43m        \u001b[49m\u001b[43minterpolation_stage\u001b[49m\u001b[38;5;241;43m=\u001b[39;49m\u001b[43minterpolation_stage\u001b[49m\u001b[43m,\u001b[49m\n\u001b[0;32m   2657\u001b[0m \u001b[43m        \u001b[49m\u001b[43mfilternorm\u001b[49m\u001b[38;5;241;43m=\u001b[39;49m\u001b[43mfilternorm\u001b[49m\u001b[43m,\u001b[49m\u001b[43m \u001b[49m\u001b[43mfilterrad\u001b[49m\u001b[38;5;241;43m=\u001b[39;49m\u001b[43mfilterrad\u001b[49m\u001b[43m,\u001b[49m\u001b[43m \u001b[49m\u001b[43mresample\u001b[49m\u001b[38;5;241;43m=\u001b[39;49m\u001b[43mresample\u001b[49m\u001b[43m,\u001b[49m\n\u001b[0;32m   2658\u001b[0m \u001b[43m        \u001b[49m\u001b[43murl\u001b[49m\u001b[38;5;241;43m=\u001b[39;49m\u001b[43murl\u001b[49m\u001b[43m,\u001b[49m\u001b[43m \u001b[49m\u001b[38;5;241;43m*\u001b[39;49m\u001b[38;5;241;43m*\u001b[39;49m\u001b[43m(\u001b[49m\u001b[43m{\u001b[49m\u001b[38;5;124;43m\"\u001b[39;49m\u001b[38;5;124;43mdata\u001b[39;49m\u001b[38;5;124;43m\"\u001b[39;49m\u001b[43m:\u001b[49m\u001b[43m \u001b[49m\u001b[43mdata\u001b[49m\u001b[43m}\u001b[49m\u001b[43m \u001b[49m\u001b[38;5;28;43;01mif\u001b[39;49;00m\u001b[43m \u001b[49m\u001b[43mdata\u001b[49m\u001b[43m \u001b[49m\u001b[38;5;129;43;01mis\u001b[39;49;00m\u001b[43m \u001b[49m\u001b[38;5;129;43;01mnot\u001b[39;49;00m\u001b[43m \u001b[49m\u001b[38;5;28;43;01mNone\u001b[39;49;00m\u001b[43m \u001b[49m\u001b[38;5;28;43;01melse\u001b[39;49;00m\u001b[43m \u001b[49m\u001b[43m{\u001b[49m\u001b[43m}\u001b[49m\u001b[43m)\u001b[49m\u001b[43m,\u001b[49m\n\u001b[0;32m   2659\u001b[0m \u001b[43m        \u001b[49m\u001b[38;5;241;43m*\u001b[39;49m\u001b[38;5;241;43m*\u001b[39;49m\u001b[43mkwargs\u001b[49m\u001b[43m)\u001b[49m\n\u001b[0;32m   2660\u001b[0m     sci(__ret)\n\u001b[0;32m   2661\u001b[0m     \u001b[38;5;28;01mreturn\u001b[39;00m __ret\n",
      "File \u001b[1;32mC:\\Programs\\Anaconda3\\envs\\Duet\\lib\\site-packages\\matplotlib\\_api\\deprecation.py:459\u001b[0m, in \u001b[0;36mmake_keyword_only.<locals>.wrapper\u001b[1;34m(*args, **kwargs)\u001b[0m\n\u001b[0;32m    453\u001b[0m \u001b[38;5;28;01mif\u001b[39;00m \u001b[38;5;28mlen\u001b[39m(args) \u001b[38;5;241m>\u001b[39m name_idx:\n\u001b[0;32m    454\u001b[0m     warn_deprecated(\n\u001b[0;32m    455\u001b[0m         since, message\u001b[38;5;241m=\u001b[39m\u001b[38;5;124m\"\u001b[39m\u001b[38;5;124mPassing the \u001b[39m\u001b[38;5;132;01m%(name)s\u001b[39;00m\u001b[38;5;124m \u001b[39m\u001b[38;5;132;01m%(obj_type)s\u001b[39;00m\u001b[38;5;124m \u001b[39m\u001b[38;5;124m\"\u001b[39m\n\u001b[0;32m    456\u001b[0m         \u001b[38;5;124m\"\u001b[39m\u001b[38;5;124mpositionally is deprecated since Matplotlib \u001b[39m\u001b[38;5;132;01m%(since)s\u001b[39;00m\u001b[38;5;124m; the \u001b[39m\u001b[38;5;124m\"\u001b[39m\n\u001b[0;32m    457\u001b[0m         \u001b[38;5;124m\"\u001b[39m\u001b[38;5;124mparameter will become keyword-only \u001b[39m\u001b[38;5;132;01m%(removal)s\u001b[39;00m\u001b[38;5;124m.\u001b[39m\u001b[38;5;124m\"\u001b[39m,\n\u001b[0;32m    458\u001b[0m         name\u001b[38;5;241m=\u001b[39mname, obj_type\u001b[38;5;241m=\u001b[39m\u001b[38;5;124mf\u001b[39m\u001b[38;5;124m\"\u001b[39m\u001b[38;5;124mparameter of \u001b[39m\u001b[38;5;132;01m{\u001b[39;00mfunc\u001b[38;5;241m.\u001b[39m\u001b[38;5;18m__name__\u001b[39m\u001b[38;5;132;01m}\u001b[39;00m\u001b[38;5;124m()\u001b[39m\u001b[38;5;124m\"\u001b[39m)\n\u001b[1;32m--> 459\u001b[0m \u001b[38;5;28;01mreturn\u001b[39;00m \u001b[43mfunc\u001b[49m\u001b[43m(\u001b[49m\u001b[38;5;241;43m*\u001b[39;49m\u001b[43margs\u001b[49m\u001b[43m,\u001b[49m\u001b[43m \u001b[49m\u001b[38;5;241;43m*\u001b[39;49m\u001b[38;5;241;43m*\u001b[39;49m\u001b[43mkwargs\u001b[49m\u001b[43m)\u001b[49m\n",
      "File \u001b[1;32mC:\\Programs\\Anaconda3\\envs\\Duet\\lib\\site-packages\\matplotlib\\__init__.py:1412\u001b[0m, in \u001b[0;36m_preprocess_data.<locals>.inner\u001b[1;34m(ax, data, *args, **kwargs)\u001b[0m\n\u001b[0;32m   1409\u001b[0m \u001b[38;5;129m@functools\u001b[39m\u001b[38;5;241m.\u001b[39mwraps(func)\n\u001b[0;32m   1410\u001b[0m \u001b[38;5;28;01mdef\u001b[39;00m \u001b[38;5;21minner\u001b[39m(ax, \u001b[38;5;241m*\u001b[39margs, data\u001b[38;5;241m=\u001b[39m\u001b[38;5;28;01mNone\u001b[39;00m, \u001b[38;5;241m*\u001b[39m\u001b[38;5;241m*\u001b[39mkwargs):\n\u001b[0;32m   1411\u001b[0m     \u001b[38;5;28;01mif\u001b[39;00m data \u001b[38;5;129;01mis\u001b[39;00m \u001b[38;5;28;01mNone\u001b[39;00m:\n\u001b[1;32m-> 1412\u001b[0m         \u001b[38;5;28;01mreturn\u001b[39;00m \u001b[43mfunc\u001b[49m\u001b[43m(\u001b[49m\u001b[43max\u001b[49m\u001b[43m,\u001b[49m\u001b[43m \u001b[49m\u001b[38;5;241;43m*\u001b[39;49m\u001b[38;5;28;43mmap\u001b[39;49m\u001b[43m(\u001b[49m\u001b[43msanitize_sequence\u001b[49m\u001b[43m,\u001b[49m\u001b[43m \u001b[49m\u001b[43margs\u001b[49m\u001b[43m)\u001b[49m\u001b[43m,\u001b[49m\u001b[43m \u001b[49m\u001b[38;5;241;43m*\u001b[39;49m\u001b[38;5;241;43m*\u001b[39;49m\u001b[43mkwargs\u001b[49m\u001b[43m)\u001b[49m\n\u001b[0;32m   1414\u001b[0m     bound \u001b[38;5;241m=\u001b[39m new_sig\u001b[38;5;241m.\u001b[39mbind(ax, \u001b[38;5;241m*\u001b[39margs, \u001b[38;5;241m*\u001b[39m\u001b[38;5;241m*\u001b[39mkwargs)\n\u001b[0;32m   1415\u001b[0m     auto_label \u001b[38;5;241m=\u001b[39m (bound\u001b[38;5;241m.\u001b[39marguments\u001b[38;5;241m.\u001b[39mget(label_namer)\n\u001b[0;32m   1416\u001b[0m                   \u001b[38;5;129;01mor\u001b[39;00m bound\u001b[38;5;241m.\u001b[39mkwargs\u001b[38;5;241m.\u001b[39mget(label_namer))\n",
      "File \u001b[1;32mC:\\Programs\\Anaconda3\\envs\\Duet\\lib\\site-packages\\matplotlib\\axes\\_axes.py:5481\u001b[0m, in \u001b[0;36mAxes.imshow\u001b[1;34m(self, X, cmap, norm, aspect, interpolation, alpha, vmin, vmax, origin, extent, interpolation_stage, filternorm, filterrad, resample, url, **kwargs)\u001b[0m\n\u001b[0;32m   5474\u001b[0m \u001b[38;5;28mself\u001b[39m\u001b[38;5;241m.\u001b[39mset_aspect(aspect)\n\u001b[0;32m   5475\u001b[0m im \u001b[38;5;241m=\u001b[39m mimage\u001b[38;5;241m.\u001b[39mAxesImage(\u001b[38;5;28mself\u001b[39m, cmap, norm, interpolation,\n\u001b[0;32m   5476\u001b[0m                       origin, extent, filternorm\u001b[38;5;241m=\u001b[39mfilternorm,\n\u001b[0;32m   5477\u001b[0m                       filterrad\u001b[38;5;241m=\u001b[39mfilterrad, resample\u001b[38;5;241m=\u001b[39mresample,\n\u001b[0;32m   5478\u001b[0m                       interpolation_stage\u001b[38;5;241m=\u001b[39minterpolation_stage,\n\u001b[0;32m   5479\u001b[0m                       \u001b[38;5;241m*\u001b[39m\u001b[38;5;241m*\u001b[39mkwargs)\n\u001b[1;32m-> 5481\u001b[0m \u001b[43mim\u001b[49m\u001b[38;5;241;43m.\u001b[39;49m\u001b[43mset_data\u001b[49m\u001b[43m(\u001b[49m\u001b[43mX\u001b[49m\u001b[43m)\u001b[49m\n\u001b[0;32m   5482\u001b[0m im\u001b[38;5;241m.\u001b[39mset_alpha(alpha)\n\u001b[0;32m   5483\u001b[0m \u001b[38;5;28;01mif\u001b[39;00m im\u001b[38;5;241m.\u001b[39mget_clip_path() \u001b[38;5;129;01mis\u001b[39;00m \u001b[38;5;28;01mNone\u001b[39;00m:\n\u001b[0;32m   5484\u001b[0m     \u001b[38;5;66;03m# image does not already have clipping set, clip to axes patch\u001b[39;00m\n",
      "File \u001b[1;32mC:\\Programs\\Anaconda3\\envs\\Duet\\lib\\site-packages\\matplotlib\\image.py:715\u001b[0m, in \u001b[0;36m_ImageBase.set_data\u001b[1;34m(self, A)\u001b[0m\n\u001b[0;32m    711\u001b[0m     \u001b[38;5;28mself\u001b[39m\u001b[38;5;241m.\u001b[39m_A \u001b[38;5;241m=\u001b[39m \u001b[38;5;28mself\u001b[39m\u001b[38;5;241m.\u001b[39m_A[:, :, \u001b[38;5;241m0\u001b[39m]\n\u001b[0;32m    713\u001b[0m \u001b[38;5;28;01mif\u001b[39;00m \u001b[38;5;129;01mnot\u001b[39;00m (\u001b[38;5;28mself\u001b[39m\u001b[38;5;241m.\u001b[39m_A\u001b[38;5;241m.\u001b[39mndim \u001b[38;5;241m==\u001b[39m \u001b[38;5;241m2\u001b[39m\n\u001b[0;32m    714\u001b[0m         \u001b[38;5;129;01mor\u001b[39;00m \u001b[38;5;28mself\u001b[39m\u001b[38;5;241m.\u001b[39m_A\u001b[38;5;241m.\u001b[39mndim \u001b[38;5;241m==\u001b[39m \u001b[38;5;241m3\u001b[39m \u001b[38;5;129;01mand\u001b[39;00m \u001b[38;5;28mself\u001b[39m\u001b[38;5;241m.\u001b[39m_A\u001b[38;5;241m.\u001b[39mshape[\u001b[38;5;241m-\u001b[39m\u001b[38;5;241m1\u001b[39m] \u001b[38;5;129;01min\u001b[39;00m [\u001b[38;5;241m3\u001b[39m, \u001b[38;5;241m4\u001b[39m]):\n\u001b[1;32m--> 715\u001b[0m     \u001b[38;5;28;01mraise\u001b[39;00m \u001b[38;5;167;01mTypeError\u001b[39;00m(\u001b[38;5;124m\"\u001b[39m\u001b[38;5;124mInvalid shape \u001b[39m\u001b[38;5;132;01m{}\u001b[39;00m\u001b[38;5;124m for image data\u001b[39m\u001b[38;5;124m\"\u001b[39m\n\u001b[0;32m    716\u001b[0m                     \u001b[38;5;241m.\u001b[39mformat(\u001b[38;5;28mself\u001b[39m\u001b[38;5;241m.\u001b[39m_A\u001b[38;5;241m.\u001b[39mshape))\n\u001b[0;32m    718\u001b[0m \u001b[38;5;28;01mif\u001b[39;00m \u001b[38;5;28mself\u001b[39m\u001b[38;5;241m.\u001b[39m_A\u001b[38;5;241m.\u001b[39mndim \u001b[38;5;241m==\u001b[39m \u001b[38;5;241m3\u001b[39m:\n\u001b[0;32m    719\u001b[0m     \u001b[38;5;66;03m# If the input data has values outside the valid range (after\u001b[39;00m\n\u001b[0;32m    720\u001b[0m     \u001b[38;5;66;03m# normalisation), we issue a warning and then clip X to the bounds\u001b[39;00m\n\u001b[0;32m    721\u001b[0m     \u001b[38;5;66;03m# - otherwise casting wraps extreme values, hiding outliers and\u001b[39;00m\n\u001b[0;32m    722\u001b[0m     \u001b[38;5;66;03m# making reliable interpretation impossible.\u001b[39;00m\n\u001b[0;32m    723\u001b[0m     high \u001b[38;5;241m=\u001b[39m \u001b[38;5;241m255\u001b[39m \u001b[38;5;28;01mif\u001b[39;00m np\u001b[38;5;241m.\u001b[39missubdtype(\u001b[38;5;28mself\u001b[39m\u001b[38;5;241m.\u001b[39m_A\u001b[38;5;241m.\u001b[39mdtype, np\u001b[38;5;241m.\u001b[39minteger) \u001b[38;5;28;01melse\u001b[39;00m \u001b[38;5;241m1\u001b[39m\n",
      "\u001b[1;31mTypeError\u001b[0m: Invalid shape (0,) for image data"
     ]
    },
    {
     "data": {
      "image/png": "[encoded data removed]",
      "text/plain": [
       "<Figure size 432x288 with 1 Axes>"
      ]
     },
     "metadata": {
      "needs_background": "light"
     },
     "output_type": "display_data"
    }
   ],
   "source": [
    "data = []\n",
    "for key, value in sim.simData['V_soma'].items():\n",
    "    if key[0] is not '_':\n",
    "        data.append(list(value))\n",
    "        \n",
    "data = np.array(data)\n",
    "\n",
    "plt.imshow(data, aspect='auto', interpolation=None)\n",
    "plt.xlabel('Time [ms]')\n",
    "plt.ylabel('Neuron #')"
   ]
  },
  {
   "cell_type": "code",
   "execution_count": 58,
   "id": "ed482c6b",
   "metadata": {},
   "outputs": [],
   "source": [
    "import neuroml"
   ]
  },
  {
   "cell_type": "code",
   "execution_count": 59,
   "id": "8cb3b3c0",
   "metadata": {},
   "outputs": [
    {
     "name": "stdout",
     "output_type": "stream",
     "text": [
      "\n",
      "Start time:  2022-05-24 11:15:48.869264\n",
      "\n",
      "Creating network of 2 cell populations on 1 hosts...\n",
      "  Number of cells on node 0: 9 \n",
      "  Done; cell creation time = 0.00 s.\n",
      "Making connections...\n",
      "  Number of connections on node 0: 0 \n",
      "  Done; cell connection time = 0.00 s.\n",
      "Adding stims...\n",
      "  Number of stims on node 0: 0 \n",
      "  Done; cell stims creation time = 0.00 s.\n",
      "Recording 0 traces of 0 types on node 0\n",
      "Exporting the network to NeuroML 2, reference: SyntheticNetwork, connections: True, stimulations: True, format: xml\n"
     ]
    },
    {
     "ename": "KeyError",
     "evalue": "'cellModel'",
     "output_type": "error",
     "traceback": [
      "\u001b[1;31m---------------------------------------------------------------------------\u001b[0m",
      "\u001b[1;31mKeyError\u001b[0m                                  Traceback (most recent call last)",
      "Input \u001b[1;32mIn [59]\u001b[0m, in \u001b[0;36m<cell line: 1>\u001b[1;34m()\u001b[0m\n\u001b[1;32m----> 1\u001b[0m \u001b[43msim\u001b[49m\u001b[38;5;241;43m.\u001b[39;49m\u001b[43mcreateExportNeuroML2\u001b[49m\u001b[43m(\u001b[49m\u001b[43mnetParams\u001b[49m\u001b[38;5;241;43m=\u001b[39;49m\u001b[43mnetParams\u001b[49m\u001b[43m,\u001b[49m\u001b[43m \u001b[49m\n\u001b[0;32m      2\u001b[0m \u001b[43m                       \u001b[49m\u001b[43msimConfig\u001b[49m\u001b[38;5;241;43m=\u001b[39;49m\u001b[43msimConfig\u001b[49m\u001b[43m,\u001b[49m\n\u001b[0;32m      3\u001b[0m \u001b[43m                       \u001b[49m\u001b[43mreference\u001b[49m\u001b[38;5;241;43m=\u001b[39;49m\u001b[38;5;124;43m'\u001b[39;49m\u001b[38;5;124;43mSyntheticNetwork\u001b[39;49m\u001b[38;5;124;43m'\u001b[39;49m\u001b[43m)\u001b[49m\n",
      "File \u001b[1;32mC:\\Programs\\Anaconda3\\envs\\Duet\\lib\\site-packages\\netpyne\\sim\\wrappers.py:534\u001b[0m, in \u001b[0;36mcreateExportNeuroML2\u001b[1;34m(netParams, simConfig, output, reference, connections, stimulations, format)\u001b[0m\n\u001b[0;32m    532\u001b[0m rxd \u001b[38;5;241m=\u001b[39m sim\u001b[38;5;241m.\u001b[39mnet\u001b[38;5;241m.\u001b[39maddRxD()                \u001b[38;5;66;03m# add reaction-diffusion (RxD)\u001b[39;00m\n\u001b[0;32m    533\u001b[0m simData \u001b[38;5;241m=\u001b[39m sim\u001b[38;5;241m.\u001b[39msetupRecording()        \u001b[38;5;66;03m# setup variables to record for each cell (spikes, V traces, etc)\u001b[39;00m\n\u001b[1;32m--> 534\u001b[0m \u001b[43msim\u001b[49m\u001b[38;5;241;43m.\u001b[39;49m\u001b[43mexportNeuroML2\u001b[49m\u001b[43m(\u001b[49m\u001b[43mreference\u001b[49m\u001b[43m,\u001b[49m\u001b[43m \u001b[49m\u001b[43mconnections\u001b[49m\u001b[43m,\u001b[49m\u001b[43m  \u001b[49m\u001b[43mstimulations\u001b[49m\u001b[43m,\u001b[49m\u001b[38;5;28;43mformat\u001b[39;49m\u001b[43m)\u001b[49m     \u001b[38;5;66;03m# export cells and connectivity to NeuroML 2 format\u001b[39;00m\n\u001b[0;32m    536\u001b[0m \u001b[38;5;28;01mif\u001b[39;00m output: \n\u001b[0;32m    537\u001b[0m     \u001b[38;5;28;01mreturn\u001b[39;00m (pops, cells, conns, stims, rxd, simData)\n",
      "File \u001b[1;32mC:\\Programs\\Anaconda3\\envs\\Duet\\lib\\site-packages\\netpyne\\conversion\\neuromlFormat.py:369\u001b[0m, in \u001b[0;36mexportNeuroML2\u001b[1;34m(reference, connections, stimulations, format, default_cell_radius)\u001b[0m\n\u001b[0;32m    366\u001b[0m             \u001b[38;5;28mprint\u001b[39m(\u001b[38;5;124m\"\u001b[39m\u001b[38;5;124mError, could not find cellParams for \u001b[39m\u001b[38;5;132;01m%s\u001b[39;00m\u001b[38;5;124m\"\u001b[39m\u001b[38;5;241m%\u001b[39mnp_pop\u001b[38;5;241m.\u001b[39mtags)\n\u001b[0;32m    367\u001b[0m             exit(\u001b[38;5;241m-\u001b[39m\u001b[38;5;241m1\u001b[39m)\n\u001b[1;32m--> 369\u001b[0m \u001b[38;5;28;01mif\u001b[39;00m \u001b[38;5;129;01mnot\u001b[39;00m \u001b[43mnp_pop\u001b[49m\u001b[38;5;241;43m.\u001b[39;49m\u001b[43mtags\u001b[49m\u001b[43m[\u001b[49m\u001b[38;5;124;43m'\u001b[39;49m\u001b[38;5;124;43mcellModel\u001b[39;49m\u001b[38;5;124;43m'\u001b[39;49m\u001b[43m]\u001b[49m \u001b[38;5;241m==\u001b[39m \u001b[38;5;124m'\u001b[39m\u001b[38;5;124mNetStim\u001b[39m\u001b[38;5;124m'\u001b[39m:\n\u001b[0;32m    370\u001b[0m     \u001b[38;5;28;01mif\u001b[39;00m \u001b[38;5;124m'\u001b[39m\u001b[38;5;124mconds\u001b[39m\u001b[38;5;124m'\u001b[39m \u001b[38;5;129;01min\u001b[39;00m cell_param_set \u001b[38;5;129;01mand\u001b[39;00m \u001b[38;5;28mlen\u001b[39m(cell_param_set[\u001b[38;5;124m'\u001b[39m\u001b[38;5;124mconds\u001b[39m\u001b[38;5;124m'\u001b[39m])\u001b[38;5;241m>\u001b[39m\u001b[38;5;241m0\u001b[39m:\n\u001b[0;32m    371\u001b[0m         \u001b[38;5;28;01mif\u001b[39;00m \u001b[38;5;129;01mnot\u001b[39;00m \u001b[38;5;124m'\u001b[39m\u001b[38;5;124mcellModel\u001b[39m\u001b[38;5;124m'\u001b[39m \u001b[38;5;129;01min\u001b[39;00m cell_param_set[\u001b[38;5;124m'\u001b[39m\u001b[38;5;124mconds\u001b[39m\u001b[38;5;124m'\u001b[39m] \u001b[38;5;129;01mor\u001b[39;00m cell_param_set[\u001b[38;5;124m'\u001b[39m\u001b[38;5;124mconds\u001b[39m\u001b[38;5;124m'\u001b[39m][\u001b[38;5;124m'\u001b[39m\u001b[38;5;124mcellModel\u001b[39m\u001b[38;5;124m'\u001b[39m]\u001b[38;5;241m==\u001b[39m{}:\n",
      "File \u001b[1;32mC:\\Programs\\Anaconda3\\envs\\Duet\\lib\\site-packages\\netpyne\\specs\\dicts.py:197\u001b[0m, in \u001b[0;36mODict.__getitem__\u001b[1;34m(self, k)\u001b[0m\n\u001b[0;32m    196\u001b[0m \u001b[38;5;28;01mdef\u001b[39;00m \u001b[38;5;21m__getitem__\u001b[39m(\u001b[38;5;28mself\u001b[39m, k):\n\u001b[1;32m--> 197\u001b[0m     \u001b[38;5;28;01mreturn\u001b[39;00m \u001b[38;5;28;43msuper\u001b[39;49m\u001b[43m(\u001b[49m\u001b[43mODict\u001b[49m\u001b[43m,\u001b[49m\u001b[43m \u001b[49m\u001b[38;5;28;43mself\u001b[39;49m\u001b[43m)\u001b[49m\u001b[38;5;241;43m.\u001b[39;49m\u001b[38;5;21;43m__getitem__\u001b[39;49m\u001b[43m(\u001b[49m\u001b[43mk\u001b[49m\u001b[43m)\u001b[49m\n",
      "\u001b[1;31mKeyError\u001b[0m: 'cellModel'"
     ]
    }
   ],
   "source": [
    "sim.createExportNeuroML2(netParams=netParams, \n",
    "                       simConfig=simConfig,\n",
    "                       reference='SyntheticNetwork')  # create and export network to NeuroML 2"
   ]
  },
  {
   "cell_type": "code",
   "execution_count": 43,
   "id": "4e1c7db4",
   "metadata": {},
   "outputs": [
    {
     "name": "stdout",
     "output_type": "stream",
     "text": [
      "<netpyne.network.pop.Pop object at 0x000002D8FBE00EB0>\n",
      "<netpyne.network.pop.Pop object at 0x000002D8FBE004C0>\n"
     ]
    }
   ],
   "source": [
    "for np_pop_id in sim.net.pops:\n",
    "    np_pop = sim.net.pops[np_pop_id]\n",
    "    print(np_pop)"
   ]
  },
  {
   "cell_type": "code",
   "execution_count": null,
   "id": "27a86ede",
   "metadata": {},
   "outputs": [],
   "source": []
  },
  {
   "cell_type": "code",
   "execution_count": null,
   "id": "ad340c92",
   "metadata": {},
   "outputs": [],
   "source": []
  },
  {
   "cell_type": "code",
   "execution_count": null,
   "id": "21ecef31",
   "metadata": {},
   "outputs": [],
   "source": []
  },
  {
   "cell_type": "code",
   "execution_count": null,
   "id": "77eac300",
   "metadata": {},
   "outputs": [],
   "source": []
  }
 ],
 "metadata": {
  "kernelspec": {
   "display_name": "Python 3 (ipykernel)",
   "language": "python",
   "name": "python3"
  },
  "language_info": {
   "codemirror_mode": {
    "name": "ipython",
    "version": 3
   },
   "file_extension": ".py",
   "mimetype": "text/x-python",
   "name": "python",
   "nbconvert_exporter": "python",
   "pygments_lexer": "ipython3",
   "version": "3.8.13"
  }
 },
 "nbformat": 4,
 "nbformat_minor": 5
}
