{
 "cells": [
  {
   "cell_type": "markdown",
   "id": "9e962496",
   "metadata": {},
   "source": [
    "# Making a movie of voltage activity\n",
    "\n",
    "We'll create a simple network made up of one imported morphology.\n",
    "\n",
    "First we need to download the morphology."
   ]
  },
  {
   "cell_type": "markdown",
   "id": "6a9270d3",
   "metadata": {},
   "source": [
    "Then we need to import the morphology."
   ]
  },
  {
   "cell_type": "code",
   "execution_count": 33,
   "id": "b952352c",
   "metadata": {},
   "outputs": [
    {
     "name": "stdout",
     "output_type": "stream",
     "text": [
      "Using matplotlib backend: QtAgg\n"
     ]
    }
   ],
   "source": [
    "import os\n",
    "\n",
    "from netpyne import specs, sim\n",
    "%matplotlib\n",
    "\n",
    "filename = 'synthetic-3-cells.tif'\n",
    "\n",
    "folder = os.path.splitext(filename)[0]\n",
    "\n",
    "if not os.path.exists(folder):\n",
    "    from rivunetpy.rtracenet import trace_net\n",
    "    trace_net(filename)     # Trace\n",
    "\n",
    "swc_filenames = []\n",
    "for file in os.listdir(folder):\n",
    "    if os.path.splitext(file)[-1] == '.swc':\n",
    "        swc_filenames.append(file)\n",
    "\n",
    "netParams = specs.NetParams()\n",
    "\n",
    "for ii, filename in enumerate(swc_filenames):\n",
    "    cellRule = netParams.importCellParams(\n",
    "        label='swc_cell', \n",
    "        fileName=os.path.join(folder, filename), \n",
    "        cellName='traced_cell',\n",
    "        )\n",
    "    \n",
    "    # For convenience, we'll rename the first soma section in the morphology from `soma_0` to `soma`.\n",
    "    netParams.renameCellParamsSec('swc_cell', 'soma_0', 'soma')\n",
    "    \n",
    "    # Next we'll add Hodgkin-Huxley mechanisms to the soma and a passive leak mechanism everywhere else.\n",
    "    for secName in cellRule['secs']:\n",
    "        cellRule['secs'][secName]['geom']['cm'] = 1\n",
    "        if secName.startswith('soma'):\n",
    "            cellRule['secs'][secName]['mechs']['hh'] = {\n",
    "                'gnabar': 0.12, \n",
    "                'gkbar': 0.036, \n",
    "                'gl': 0.003, \n",
    "                'el': -70,\n",
    "                }\n",
    "    else:\n",
    "        cellRule['secs'][secName]['mechs']['pas'] = {\n",
    "            'g': 0.0000357, \n",
    "            'e': -70,\n",
    "            }\n",
    "    # Now we'll make a population out of our imported cell.\n",
    "    netParams.popParams[ii] = {'cellType': 'swc_cell', 'numCells': 1}\n",
    "    \n",
    "num_cells = len(swc_filenames)"
   ]
  },
  {
   "cell_type": "markdown",
   "id": "d3d3e187",
   "metadata": {},
   "source": [
    "Now we'll add a stimulation into the soma to cause an action potential."
   ]
  },
  {
   "cell_type": "code",
   "execution_count": 34,
   "id": "7c65e76c",
   "metadata": {},
   "outputs": [],
   "source": [
    "netParams.synMechParams['exc'] = {\n",
    "    'mod': 'Exp2Syn', \n",
    "    'tau1': 0.1, \n",
    "    'tau2': 5.0, \n",
    "    'e': 0,\n",
    "}\n",
    "\n",
    "netParams.stimSourceParams['bkg'] = {\n",
    "    'type': 'NetStim', \n",
    "    'rate': 10, \n",
    "    'noise': 0.0,\n",
    "}\n",
    "\n",
    "netParams.stimTargetParams['bkg->swc_cell'] = {\n",
    "    'source': 'bkg', \n",
    "    'conds': {'cellType': 'swc_cell'}, \n",
    "    'weight': 0.1, \n",
    "    'delay': 10, \n",
    "    'synMech': 'exc',\n",
    "}"
   ]
  },
  {
   "cell_type": "code",
   "execution_count": 42,
   "id": "1cc064f9-bcbe-4c4f-a263-ec92f10e1f65",
   "metadata": {},
   "outputs": [
    {
     "data": {
      "text/plain": [
       "{S->M: {'preConds': {'pop': 'S'}, 'postConds': {'pop': 'M'}, 'probability': 0.5, 'weight': 0.01, 'delay': 5, 'synMech': 'exc'}, 0->1: {'preConds': {'pop': 0}, 'postConds': {'pop': 1}, 'probability': 0.5, 'weight': 0.01, 'delay': 5, 'synMech': 'exc'}, 1->2: {'preConds': {'pop': 1}, 'postConds': {'pop': 2}, 'probability': 0.5, 'weight': 0.01, 'delay': 5, 'synMech': 'exc'}}"
      ]
     },
     "execution_count": 42,
     "metadata": {},
     "output_type": "execute_result"
    }
   ],
   "source": [
    "## Cell connectivity rules\n",
    "\n",
    "netParams.connParams['0->1'] = { # label\n",
    "        'preConds': {'pop': 0},   # conditions of presyn cells\n",
    "        'postConds': {'pop': 1},  # conditions of postsyn cells\n",
    "        'probability': 0.5,         # probability of connection\n",
    "        'weight': 0.01,             # synaptic weight\n",
    "        'delay': 5,                 # transmission delay (ms)\n",
    "        'synMech': 'exc'}           # synaptic mechanism\n",
    "\n",
    "netParams.connParams['1->2'] = { # label\n",
    "        'preConds': {'pop': 1},   # conditions of presyn cells\n",
    "        'postConds': {'pop': 2},  # conditions of postsyn cells\n",
    "        'probability': 0.5,         # probability of connection\n",
    "        'weight': 0.01,             # synaptic weight\n",
    "        'delay': 5,                 # transmission delay (ms)\n",
    "        'synMech': 'exc'}           # synaptic mechanism"
   ]
  },
  {
   "cell_type": "markdown",
   "id": "cf16af32",
   "metadata": {},
   "source": [
    "Then we'll set up the simulation configuration."
   ]
  },
  {
   "cell_type": "code",
   "execution_count": 8,
   "id": "9cc67e46",
   "metadata": {},
   "outputs": [],
   "source": [
    "cfg = specs.SimConfig()\n",
    "cfg.filename = 'plotshape'\n",
    "cfg.duration = 30\n",
    "cfg.recordTraces = {'V_soma': {'sec': 'soma', 'loc': 0.5, 'var': 'v'}}\n",
    "cfg.recordStep = 0.5\n",
    "cfg.analysis['plotTraces'] = {'include': ['all'], 'showFig': True}   "
   ]
  },
  {
   "cell_type": "markdown",
   "id": "c61aa7f8",
   "metadata": {},
   "source": [
    "At this point, we could complete everything with `sim.createSimulateAnalyze(netParams=netParams, simConfig=cfg)`, but we want to plot a movie frame at a certain interval, so we need to execute the simulation commands individually."
   ]
  },
  {
   "cell_type": "code",
   "execution_count": 9,
   "id": "629664f1",
   "metadata": {},
   "outputs": [
    {
     "name": "stdout",
     "output_type": "stream",
     "text": [
      "\n",
      "Start time:  2022-05-13 14:05:46.761142\n",
      "\n",
      "Creating network of 1 cell populations on 1 hosts...\n",
      "  Number of cells on node 0: 1 \n",
      "  Done; cell creation time = 0.01 s.\n",
      "Making connections...\n",
      "  Number of connections on node 0: 0 \n",
      "  Done; cell connection time = 0.00 s.\n",
      "Adding stims...\n",
      "  Number of stims on node 0: 1 \n",
      "  Done; cell stims creation time = 0.00 s.\n",
      "Recording 1 traces of 1 types on node 0\n"
     ]
    },
    {
     "data": {
      "text/plain": [
       "{spkt: Vector[0], spkid: Vector[1], V_soma: {cell_0: Vector[2]}, t: Vector[3], _repr_mimebundle_: {}}"
      ]
     },
     "execution_count": 9,
     "metadata": {},
     "output_type": "execute_result"
    }
   ],
   "source": [
    "sim.initialize(simConfig=cfg, netParams=netParams)\n",
    "sim.net.createPops()\n",
    "sim.net.createCells()\n",
    "sim.net.connectCells()\n",
    "sim.net.addStims()\n",
    "sim.setupRecording()"
   ]
  },
  {
   "cell_type": "markdown",
   "id": "32d52364",
   "metadata": {},
   "source": [
    "At this point, we could run the simulation with `sim.runSim()`, but we want to execute the following at intervals:\n",
    "    \n",
    "    sim.analysis.plotShape(\n",
    "        includePre  = [0], \n",
    "        includePost = [0], \n",
    "        cvar        = 'voltage', \n",
    "        clim        = [-70, -20], \n",
    "        saveFig     = 'movie', \n",
    "        showFig     = False,\n",
    "    )\n",
    "    \n",
    "First we have to make a dictionary of the arguments we want to feed into plotShape:"
   ]
  },
  {
   "cell_type": "code",
   "execution_count": 12,
   "id": "160d64c6",
   "metadata": {},
   "outputs": [],
   "source": [
    "def my_plotShape(simTime):\n",
    "    plotArgs = {\n",
    "        'includePre' : [0], \n",
    "        'includePost': [0], \n",
    "        'cvar'       : 'voltage', \n",
    "        'clim'       : [-70, -20], \n",
    "        'saveFig'    : 'movie{:.2f}.png'.format(simTime), \n",
    "        'showFig'    : False,\n",
    "        'elev' : 90\n",
    "        , azim=- 90\n",
    "    }\n",
    "    sim.analysis.plotShape(**plotArgs)"
   ]
  },
  {
   "cell_type": "markdown",
   "id": "3646c7c7",
   "metadata": {},
   "source": [
    "Then we can replace `sim.runSim()` with:"
   ]
  },
  {
   "cell_type": "code",
   "execution_count": 13,
   "id": "604595ac",
   "metadata": {},
   "outputs": [
    {
     "name": "stdout",
     "output_type": "stream",
     "text": [
      "\n",
      "Running with interval func using NEURON for 30.0 ms...\n",
      "Plotting 3D cell shape ...\n",
      "Plotting 3D cell shape ...\n",
      "Plotting 3D cell shape ...\n",
      "Plotting 3D cell shape ...\n",
      "Plotting 3D cell shape ...\n",
      "Plotting 3D cell shape ...\n",
      "Plotting 3D cell shape ...\n",
      "Plotting 3D cell shape ...\n",
      "Plotting 3D cell shape ...\n",
      "Plotting 3D cell shape ...\n",
      "  Done; run time = 4.29 s; real-time ratio: 0.01.\n"
     ]
    }
   ],
   "source": [
    "%matplotlib inline\n",
    "sim.runSimWithIntervalFunc(1.0, my_plotShape, timeRange=[10, 20], funcArgs=())"
   ]
  },
  {
   "cell_type": "markdown",
   "id": "3658cf09",
   "metadata": {},
   "source": [
    "This will execute `sim.analysis.plotShape` every 1.0 ms from 10 to 20 ms in the simulation and feed it the plotArgs dictionary we created above."
   ]
  },
  {
   "cell_type": "markdown",
   "id": "9c5b9bff",
   "metadata": {},
   "source": [
    "Once we're done simulating, we need to wrap up the final steps manually:"
   ]
  },
  {
   "cell_type": "code",
   "execution_count": 14,
   "id": "32458af0",
   "metadata": {},
   "outputs": [
    {
     "name": "stdout",
     "output_type": "stream",
     "text": [
      "\n",
      "Gathering data...\n",
      "  Done; gather time = 0.01 s.\n",
      "\n",
      "Analyzing...\n",
      "  Cells: 1\n",
      "  Connections: 1 (1.00 per cell)\n",
      "  Spikes: 1 (33.33 Hz)\n",
      "  Simulated time: 0.0 s; 1 workers\n",
      "  Run time: 4.29 s\n",
      "Warning: data won't be saved. No output format specified (consider sim.cfg.savePickle, sim.cfg.saveJson etc.)\n",
      "Plotting recorded cell traces ... cell\n",
      "  Done; plotting time = 0.19 s\n"
     ]
    }
   ],
   "source": [
    "sim.gatherData()\n",
    "sim.saveData()\n",
    "sim.analysis.plotData()"
   ]
  },
  {
   "cell_type": "markdown",
   "id": "b1b9ee95",
   "metadata": {},
   "source": [
    "Once everything is complete, we'll need to install a couple Python packages to make a movie from our frames.\n",
    "\n",
    "```python\n",
    "!python3 -m pip install natsort imageio\n",
    "```"
   ]
  },
  {
   "cell_type": "markdown",
   "id": "26a342f4",
   "metadata": {},
   "source": [
    "Then the following will create an animated gif from the individual figures."
   ]
  },
  {
   "cell_type": "code",
   "execution_count": 16,
   "id": "018b0494",
   "metadata": {},
   "outputs": [
    {
     "name": "stdout",
     "output_type": "stream",
     "text": [
      "..........."
     ]
    }
   ],
   "source": [
    "import os\n",
    "import natsort\n",
    "import imageio\n",
    "\n",
    "images = []\n",
    "filenames = natsort.natsorted([file for file in os.listdir() if 'movie' in file and file.endswith('.png')])\n",
    "for filename in filenames:\n",
    "    print('.',end='')\n",
    "    images.append(imageio.imread(filename))\n",
    "imageio.mimsave('neuron_0001.gif', images)"
   ]
  },
  {
   "cell_type": "markdown",
   "id": "b9297bcd",
   "metadata": {},
   "source": [
    "Your movie should show up below:\n",
    "\n",
    "<img src=\"shape_movie.gif\">"
   ]
  },
  {
   "cell_type": "code",
   "execution_count": null,
   "id": "28a4c3b3",
   "metadata": {},
   "outputs": [],
   "source": []
  }
 ],
 "metadata": {
  "kernelspec": {
   "display_name": "Python 3 (ipykernel)",
   "language": "python",
   "name": "python3"
  },
  "language_info": {
   "codemirror_mode": {
    "name": "ipython",
    "version": 3
   },
   "file_extension": ".py",
   "mimetype": "text/x-python",
   "name": "python",
   "nbconvert_exporter": "python",
   "pygments_lexer": "ipython3",
   "version": "3.8.13"
  }
 },
 "nbformat": 4,
 "nbformat_minor": 5
}
