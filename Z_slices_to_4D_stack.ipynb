{
 "cells": [
  {
   "cell_type": "code",
   "execution_count": 2,
   "id": "0abaf898",
   "metadata": {},
   "outputs": [],
   "source": [
    "import os\n",
    "import glob\n",
    "\n",
    "import SimpleITK as sitk"
   ]
  },
  {
   "cell_type": "markdown",
   "id": "c63ead5c",
   "metadata": {},
   "source": [
    "## Instructions\n",
    "\n",
    "1. Put XYT stacks in `folder`\n",
    "2. Assign `export_to`\n",
    "3. Run the next two cells"
   ]
  },
  {
   "cell_type": "code",
   "execution_count": 13,
   "id": "245330cc",
   "metadata": {},
   "outputs": [
    {
     "name": "stdout",
     "output_type": "stream",
     "text": [
      "Final shape: (640, 640, 15, 150)\n",
      "Insering slice15.tif of size: (640, 640, 150)\n",
      "Insering slice14.tif of size: (640, 640, 150)\n",
      "Insering slice13.tif of size: (640, 640, 150)\n",
      "Insering slice12.tif of size: (640, 640, 150)\n",
      "Insering slice11.tif of size: (640, 640, 150)\n",
      "Insering slice10.tif of size: (640, 640, 150)\n",
      "Insering slice09.tif of size: (640, 640, 150)\n",
      "Insering slice08.tif of size: (640, 640, 150)\n",
      "Insering slice07.tif of size: (640, 640, 150)\n",
      "Insering slice06.tif of size: (640, 640, 150)\n",
      "Insering slice05.tif of size: (640, 640, 150)\n",
      "Insering slice04.tif of size: (640, 640, 150)\n",
      "Insering slice03.tif of size: (640, 640, 150)\n",
      "Insering slice02.tif of size: (640, 640, 150)\n",
      "Insering slice01.tif of size: (640, 640, 150)\n",
      "Done!\n"
     ]
    }
   ],
   "source": [
    "folder = r\"dataset_s0_c9\\slices\"\n",
    "export_to = r\"dataset_s0_c9\\dataset_s0_c9_4D.tif\"\n",
    "\n",
    "fls = glob.glob(os.path.join(folder, \"*.tif\"))\n",
    "fls.sort()\n",
    "fls.reverse()\n",
    "# print(f'Files: {fls}\\n')\n",
    "imgs = []\n",
    "\n",
    "img = sitk.ReadImage(fls[0])\n",
    "shape = list(img.GetSize())\n",
    "shape.insert(2, len(fls))\n",
    "\n",
    "\n",
    "\n",
    "grand_stack = sitk.Image(shape, img.GetPixelID())\n",
    "print(f'Final shape: {grand_stack.GetSize()}')\n",
    "\n",
    "for ii, fname in enumerate(fls):\n",
    "    img = sitk.ReadImage(fname)\n",
    "    print(f'Insering {os.path.basename(fname)} of size: {img.GetSize()}')\n",
    "    grand_stack[:, :, ii, :] = img[:, :, :]\n",
    "\n",
    "\n",
    "print(\"Done!\")"
   ]
  },
  {
   "cell_type": "code",
   "execution_count": 14,
   "id": "53c36d58",
   "metadata": {},
   "outputs": [
    {
     "name": "stdout",
     "output_type": "stream",
     "text": [
      "Done writing 2250 slices!\n"
     ]
    }
   ],
   "source": [
    "export_shape = [shape[0], shape[1], shape[2] * shape[3]]\n",
    "export_stack = sitk.Image(export_shape, img.GetPixelID())\n",
    "\n",
    "ll = 0\n",
    "for ii in range(shape[3]): # Iterate over all timesteps\n",
    "    for jj in range(shape[2]): # Iterate over all Z slices\n",
    "        export_stack[:, :, ll] = grand_stack[:, :, jj, ii]\n",
    "        ll += 1\n",
    "    \n",
    "sitk.WriteImage(export_stack, export_to)\n",
    "\n",
    "\n",
    "print(f\"Done writing {ll} slices!\")"
   ]
  },
  {
   "cell_type": "markdown",
   "id": "40f24841",
   "metadata": {},
   "source": [
    "## Instructions (cont.)\n",
    "\n",
    "4. Open the exported file in ImageJ\n",
    "5. `Image` > `Hyperstacks` > `Stacks to Hyperstacks`\n",
    "6. `Image` > `Properties` > Set properties according to camera settings in Blender\n",
    "    * Pixel width\n",
    "    * Pixel height\n",
    "    * Voxel depth\n",
    "    * Frame interval\n",
    "7. Save image\n",
    "    "
   ]
  },
  {
   "cell_type": "code",
   "execution_count": 39,
   "id": "21617e97",
   "metadata": {},
   "outputs": [],
   "source": [
    "after_imagej = sitk.ReadImage(export_to)"
   ]
  },
  {
   "cell_type": "code",
   "execution_count": 40,
   "id": "41b25c8f",
   "metadata": {},
   "outputs": [
    {
     "data": {
      "text/plain": [
       "(640, 640, 4500)"
      ]
     },
     "execution_count": 40,
     "metadata": {},
     "output_type": "execute_result"
    }
   ],
   "source": [
    "after_imagej.GetSize()"
   ]
  },
  {
   "cell_type": "code",
   "execution_count": 21,
   "id": "2930668b",
   "metadata": {},
   "outputs": [
    {
     "name": "stdout",
     "output_type": "stream",
     "text": [
      "10.4\n"
     ]
    }
   ],
   "source": [
    "import numpy as np\n",
    "SNR = 20 # dB\n",
    "mu = 104\n",
    "\n",
    "sigma = mu * 10**(-SNR/20)\n",
    "print(sigma)"
   ]
  },
  {
   "cell_type": "code",
   "execution_count": null,
   "id": "b8e9fee3",
   "metadata": {},
   "outputs": [],
   "source": []
  }
 ],
 "metadata": {
  "kernelspec": {
   "display_name": "Python 3 (ipykernel)",
   "language": "python",
   "name": "python3"
  },
  "language_info": {
   "codemirror_mode": {
    "name": "ipython",
    "version": 3
   },
   "file_extension": ".py",
   "mimetype": "text/x-python",
   "name": "python",
   "nbconvert_exporter": "python",
   "pygments_lexer": "ipython3",
   "version": "3.8.13"
  }
 },
 "nbformat": 4,
 "nbformat_minor": 5
}
